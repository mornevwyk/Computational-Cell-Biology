{
 "cells": [
  {
   "cell_type": "code",
   "execution_count": 1,
   "metadata": {},
   "outputs": [],
   "source": [
    "import matplotlib.pyplot as plt"
   ]
  },
  {
   "cell_type": "markdown",
   "metadata": {},
   "source": [
    "# Passive Transport"
   ]
  },
  {
   "cell_type": "markdown",
   "metadata": {},
   "source": [
    "Passive transport uses background thermal energy and/or concentration gradient as an energy source rather than explicit energy in the form of ATP. \n",
    "\n",
    "The glucose transporter is a passive transporter, GLUT, of which 6 isotypes have been isolated, GLUT1 through 6.\n",
    "\n",
    "The GLUT transporter mechanism can be described by a cartoon with 4 states.\n",
    "1. Pore facing outwards with no glucose bound.\n",
    "2. Pore facing outwards with glucose bound.\n",
    "3. Pore facing inwards with glucose bound.\n",
    "4. Pore facing inwards with no glucose bound.\n",
    "\n",
    "The four steps are reversible and the kinetics of each step follows the law of mass action."
   ]
  },
  {
   "cell_type": "code",
   "execution_count": 4,
   "metadata": {},
   "outputs": [
    {
     "data": {
      "image/png": "[encoded data removed]",
      "text/plain": [
       "<Figure size 640x480 with 1 Axes>"
      ]
     },
     "metadata": {},
     "output_type": "display_data"
    }
   ],
   "source": [
    "os = 0.05\n",
    "plt.axis('off')\n",
    "plt.plot([0,0], [1 - os,0 + os], 'black')\n",
    "plt.plot([0 + os,1 - os], [0,0], 'black')\n",
    "plt.plot([1,1], [0 + os,1 - os], 'black')\n",
    "plt.plot([1 - os,0 + os], [1,1], 'black')\n",
    "plt.text(0,1,'$S_1$', horizontalalignment='center', verticalalignment='center', fontsize='xx-large')\n",
    "plt.text(0,0,'$S_2$', horizontalalignment='center', verticalalignment='center', fontsize='xx-large')\n",
    "plt.text(1,0,'$S_3$', horizontalalignment='center', verticalalignment='center', fontsize='xx-large')\n",
    "plt.text(1,1,'$S_4$', horizontalalignment='center', verticalalignment='center', fontsize='xx-large')\n",
    "plt.text(-0.1,0.6,'[G]$_{out}$', horizontalalignment='right', verticalalignment='center', fontsize='xx-large')\n",
    "plt.text(1.1,0.6,'[G]$_{in}$', horizontalalignment='left', verticalalignment='center', fontsize='xx-large')\n",
    "plt.plot([-0.08, 0],[0.6,0.5],'black')\n",
    "plt.plot([1.08, 1],[0.6,0.5],'black')\n",
    "plt.show()"
   ]
  },
  {
   "cell_type": "markdown",
   "metadata": {},
   "source": [
    "The conversion of state $S_1$ to $S_2$ is given by $J_{12} = k_{12}[\\text{G}]_{out}x_1$, where $[\\text{G}]_{out}$ is he gexternal gluxose concentration, $k_{12}$ the rate constant and $x_1$ the fraction of enzyme in the $S_1$ state so $x_1 = N_{1}/N$ where $N$ is the total number of transporters. The rates for each step are shown in the table below.\n",
    "\n",
    "|**Forward Proces**     | **Rate**              | **Reverse Process**   | **Rate**              |\n",
    "|-----------------------|-----------------------|-----------------------|-----------------------|\n",
    "| $S_1 \\rightarrow S_2$ | $k_{12}[G]_{out}x_1$  | $S_2 \\rightarrow S_1$ | $k_{21}x_2$           |\n",
    "| $S_2 \\rightarrow S_3$ | $k_{23}x_2$           | $S_3 \\rightarrow S_2$ | $k_{32}x_3$           |\n",
    "| $S_3 \\rightarrow S_4$ | $k_{34}x_3$           | $S_4 \\rightarrow S_3$ | $k_{43}[G]_{in}x_4$   |\n",
    "| $S_4 \\rightarrow S_1$ | $k_{41}x_4$           | $S_1 \\rightarrow S_4$ | $k_{14}x_1$           |\n",
    "\n",
    "Once the rates have been established in correspondence with the kinetic schema we can determine the differential equations for each transporter state. The fraction of transporters in $x_1$ decreases as $S_1$ transitions to $S_2$ or $S_4$ and increases as $S_2$ or $S_4$ transition to $S_1$.\n",
    "\n",
    "\\begin{align*}\n",
    "    {dx_1\\over dt} &= -k_{12}[\\text{G}]_{out}x_1 + k_{21}x_2 + k_{41}x_4 - k_{41}  \\\\\n",
    "    {dx_2\\over dt} &= k_{12}[\\text{G}]_{out}x_1 - k_{21}x_2 - k_{23}x_2 + k_{32}x_3 \\\\\n",
    "    {dx_3\\over dt} &= k_{23}x_2 - k_{32}x_3 - k_{34}x_3 + k_{43}[\\text{G}]_{in}x_4  \\\\\n",
    "    {dx_4\\over dt} &= k_{34}x_3 - k_{43}[\\text{G}]_{in}x_4 - k_{41}x_4 + k_{14}x_1\n",
    "\\end{align*}\n",
    "\n",
    "We can use a conservation law to ensure that transprters are neither created nore destroyed, $N_1 + N_2 + N_3 + N_4 = N$ or $x_1 + x_2 + x_3 + x_4 = 1$. This is verifiable as the sum of the rates eqaul 0, $d(x_1 + x_2 + x_3 + x_4)/dt = 0$. \n",
    "\n",
    "We can eliminate one of the dependant variables using the conservation law with $x_4 = 1 - x_1 - x_2 - x_3$, making the differential for $x_4$ redundant, reducing the equations to \n",
    "\n",
    "\\begin{align*}\n",
    "    {dx_1\\over dt} &= m_{11}x_1 + m_{12}x_2 + m_{13}x_3 + k_{41}  \\\\\n",
    "    {dx_2\\over dt} &= m_{21}x_1 + m_{22}x_2 + m_{23}x_3 \\\\\n",
    "    {dx_3\\over dt} &= m_{31}x_1 + m_{32}x_2 + m_{33}x_3 + k_43[\\text{G}]_{in} \\\\\n",
    "    x_4 &= 1 - - x_1 - x_2 - x_3\n",
    "\\end{align*}\n",
    "\n",
    "where $m_{11} = -(k_{12}[G]_{out} + k_{14})$ ..."
   ]
  },
  {
   "cell_type": "markdown",
   "metadata": {},
   "source": [
    "## Transporter Rates"
   ]
  },
  {
   "cell_type": "markdown",
   "metadata": {},
   "source": []
  }
 ],
 "metadata": {
  "kernelspec": {
   "display_name": "base",
   "language": "python",
   "name": "python3"
  },
  "language_info": {
   "codemirror_mode": {
    "name": "ipython",
    "version": 3
   },
   "file_extension": ".py",
   "mimetype": "text/x-python",
   "name": "python",
   "nbconvert_exporter": "python",
   "pygments_lexer": "ipython3",
   "version": "3.11.7"
  }
 },
 "nbformat": 4,
 "nbformat_minor": 2
}
